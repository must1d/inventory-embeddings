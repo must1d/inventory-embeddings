{
 "cells": [
  {
   "cell_type": "code",
   "execution_count": 1,
   "id": "2e9ce0ad11c9ab9c",
   "metadata": {
    "ExecuteTime": {
     "end_time": "2024-09-03T16:32:12.894997Z",
     "start_time": "2024-09-03T16:32:12.297044Z"
    }
   },
   "outputs": [],
   "source": [
    "from copy import deepcopy\n",
    "\n",
    "import numpy as np\n",
    "\n",
    "from embeddings.common.log import logger\n",
    "from embeddings.dataset.emission_field_transforms import CenterCropTransform\n",
    "from embeddings.dataset.tno_dataset import TnoDataset\n",
    "from embeddings.dataset.tno_dataset_collection import TnoDatasetCollection\n",
    "from embeddings.models.common.metrics import mse\n",
    "from embeddings.models.vae.vae import VariationalAutoEncoder\n"
   ]
  },
  {
   "cell_type": "code",
   "execution_count": 2,
   "id": "initial_id",
   "metadata": {
    "ExecuteTime": {
     "end_time": "2024-09-03T16:32:15.497358Z",
     "start_time": "2024-09-03T16:32:12.895978Z"
    }
   },
   "outputs": [
    {
     "name": "stdout",
     "output_type": "stream",
     "text": [
      "[INFO] > Loading TNO data from '/home/must1d/Repositories/inventory-embeddings/data/TNO-GHGco-1km/TNO_by_city/TNO_GHGco_2015_highres_by_city.csv'\n",
      "[INFO] > Loading TNO data from '/home/must1d/Repositories/inventory-embeddings/data/TNO-GHGco-1km/TNO_by_city/TNO_GHGco_2018_highres_by_city.csv'\n",
      "[INFO] > Test Set has 13 unique cites!                          \n",
      "\tGdynia, Siegen, Innsbruck, Duisburg, Großzschocher, Reims, Szczecin, Magdeburg, Dresden, Hamburg, Aachen, Prague, Győr\n",
      "[INFO] > Validation Set has 15 unique cites!\n",
      "\tLinz, Wałbrzych, Bielefeld, Kassel, Erfurt, Ingolstadt, Koblenz, Nijmegen, Frankfurt am Main, Southampton, Brussels, Zielona Góra, Kalisz, Angers, Bydgoszcz\n",
      "[INFO] > Training Set has 74 unique cites!\n",
      "\tFreiburg, Basel, Hannover, Orléans, Koszalin, Rotterdam, Brno, Bremerhaven, Dijon, Kingston upon Hull, Brugge, Lille, Amiens, Münster, Pilsen, Reading, Metz, Sheffield, Gorzów Wielkopolski, Antwerpen, Leicester, Groningen, Salzburg, Odense, Rouen, Le Havre, Besançon, Kiel, Wrocław, Ulm, Karlsruhe, Berlin, Ostrava, Le Mans, Strasbourg, Heilbronn, London, Bremen, Nürnberg, Regensburg, Southend-on-Sea, Tours, Breda, Charleroi, Ipswich, Braunschweig, Milton Keynes, Eindhoven, Köln, Poznań, Sunderland, Norwich, Rostock, Leeds, Brighton, Nantes, Trier, Liberec, Amsterdam, Enschede, Vienna, Würzburg, Augsburg, Opole, Chemnitz, Mannheim, Legnica, Saarbrücken, Stuttgart, Copenhagen, Nancy, Saint Peters, Hastings, Apeldoorn\n"
     ]
    }
   ],
   "source": [
    "dataset_collection = TnoDatasetCollection()"
   ]
  },
  {
   "cell_type": "markdown",
   "id": "854b4165c494139f",
   "metadata": {},
   "source": [
    "# Mean of data"
   ]
  },
  {
   "cell_type": "code",
   "execution_count": 3,
   "id": "60c4dda06c16f73a",
   "metadata": {
    "ExecuteTime": {
     "end_time": "2024-09-03T16:32:15.499995Z",
     "start_time": "2024-09-03T16:32:15.498023Z"
    }
   },
   "outputs": [],
   "source": [
    "def _compute_mean(tno_dataset: TnoDataset) -> float:\n",
    "    means = np.zeros(len(tno_dataset.city_emission_fields))\n",
    "    for i, city in enumerate(tno_dataset.city_emission_fields):\n",
    "        means[i] = city.co2_ff_field.mean()\n",
    "    return float(means.mean())"
   ]
  },
  {
   "cell_type": "code",
   "execution_count": 4,
   "id": "cf960c655af06bcd",
   "metadata": {
    "ExecuteTime": {
     "end_time": "2024-09-03T16:32:15.506837Z",
     "start_time": "2024-09-03T16:32:15.500946Z"
    }
   },
   "outputs": [
    {
     "name": "stdout",
     "output_type": "stream",
     "text": [
      "[INFO] > Mean of training data:\t\t0.045735363120123676\n",
      "[INFO] > Mean of validation data:\t0.04517446150369493\n",
      "[INFO] > Mean of test data:\t\t0.04488871208793886\n"
     ]
    }
   ],
   "source": [
    "logger.info(f\"Mean of training data:\\t\\t{_compute_mean(dataset_collection.training_data)}\")\n",
    "logger.info(f\"Mean of validation data:\\t{_compute_mean(dataset_collection.validation_data)}\")\n",
    "logger.info(f\"Mean of test data:\\t\\t{_compute_mean(dataset_collection.test_data)}\")\n"
   ]
  },
  {
   "cell_type": "markdown",
   "id": "1839c1d6918da62",
   "metadata": {},
   "source": [
    "# Reconstruction MSE per City"
   ]
  },
  {
   "cell_type": "code",
   "execution_count": 5,
   "id": "bbaf15a9381e2299",
   "metadata": {
    "ExecuteTime": {
     "end_time": "2024-09-03T16:32:15.978686Z",
     "start_time": "2024-09-03T16:32:15.507342Z"
    }
   },
   "outputs": [],
   "source": [
    "MODEL_NAME = \"2048\"\n",
    "\n",
    "vae = VariationalAutoEncoder.load(MODEL_NAME)"
   ]
  },
  {
   "cell_type": "code",
   "execution_count": 6,
   "id": "43df51a685200c7f",
   "metadata": {
    "ExecuteTime": {
     "end_time": "2024-09-03T16:32:15.981847Z",
     "start_time": "2024-09-03T16:32:15.979360Z"
    }
   },
   "outputs": [],
   "source": [
    "crop_transform = CenterCropTransform(\n",
    "    TnoDatasetCollection.CROPPED_WIDTH,\n",
    "    TnoDatasetCollection.CROPPED_HEIGHT\n",
    ")\n",
    "\n",
    "def _compute_mse_per_city(tno_dataset: TnoDataset) -> dict[str, list[float]]:\n",
    "    resulting_dict: dict[str, list[float]] = {}\n",
    "    for c in tno_dataset.city_emission_fields:\n",
    "        current_mse = resulting_dict.get(c.city_name, [])\n",
    "        transformed_city = crop_transform(deepcopy(c))\n",
    "        x = transformed_city.co2_ff_tensor\n",
    "        x_hat = vae.reconstruct(x)\n",
    "        current_mse.append(float(mse(x, x_hat)))\n",
    "        resulting_dict[c.city_name] = current_mse\n",
    "\n",
    "    return resulting_dict"
   ]
  },
  {
   "cell_type": "code",
   "execution_count": 8,
   "id": "91ea2910d92e7a18",
   "metadata": {
    "ExecuteTime": {
     "end_time": "2024-09-03T16:32:16.907100Z",
     "start_time": "2024-09-03T16:32:15.982424Z"
    }
   },
   "outputs": [
    {
     "name": "stdout",
     "output_type": "stream",
     "text": [
      "[INFO] > -------- Test Data -------\n",
      "[INFO] > \tAachen: 0.03240668401122093, 0.03709529712796211\n",
      "[INFO] > \tDresden: 0.027762269601225853, 0.03455411270260811\n",
      "[INFO] > \tDuisburg: 0.06913617253303528, 0.08489953726530075\n",
      "[INFO] > \tGdynia: 0.025606004521250725, 0.02409745194017887\n",
      "[INFO] > \tGroßzschocher: 0.032614342868328094, 0.042206522077322006\n",
      "[INFO] > \tGyőr: 0.0059650493785738945, 0.0038708068896085024\n",
      "[INFO] > \tHamburg: 0.07413586974143982, 0.08771705627441406\n",
      "[INFO] > \tInnsbruck: 0.014841662719845772, 0.019731558859348297\n",
      "[INFO] > \tMagdeburg: 0.0206943079829216, 0.02799762226641178\n",
      "[INFO] > \tPrague: 0.02880382165312767, 0.03665880858898163\n",
      "[INFO] > \tReims: 0.016303617507219315, 0.01250146422535181\n",
      "[INFO] > \tSiegen: 0.021285777911543846, 0.027654340490698814\n",
      "[INFO] > \tSzczecin: 0.02171463519334793, 0.02124669775366783\n",
      "[INFO] > Mean: 0.03275005738788213\n",
      "[INFO] > -------- Validation Data -------\n",
      "[INFO] > \tAngers: 0.020146142691373825, 0.020119627937674522\n",
      "[INFO] > \tBielefeld: 0.028381947427988052, 0.033260200172662735\n",
      "[INFO] > \tBrussels: 0.1124868094921112, 0.1004846915602684\n",
      "[INFO] > \tBydgoszcz: 0.01533715333789587, 0.015747739002108574\n",
      "[INFO] > \tErfurt: 0.015500589273869991, 0.022141775116324425\n",
      "[INFO] > \tFrankfurt am Main: 0.06854017823934555, 0.07781045138835907\n",
      "[INFO] > \tIngolstadt: 0.022280124947428703, 0.029630472883582115\n",
      "[INFO] > \tKalisz: 0.007169940043240786, 0.00813344493508339\n",
      "[INFO] > \tKassel: 0.02781282551586628, 0.03422744572162628\n",
      "[INFO] > \tKoblenz: 0.030754543840885162, 0.034144043922424316\n",
      "[INFO] > \tLinz: 0.03992730379104614, 0.065378837287426\n",
      "[INFO] > \tNijmegen: 0.03907448425889015, 0.048210982233285904\n",
      "[INFO] > \tSouthampton: 0.06308124959468842, 0.043263744562864304\n",
      "[INFO] > \tWałbrzych: 0.011031417176127434, 0.010070933029055595\n",
      "[INFO] > \tZielona Góra: 0.007698775734752417, 0.00946684181690216\n",
      "[INFO] > Mean: 0.03537715723117193\n",
      "[INFO] > -------- Training Data -------\n",
      "[INFO] > \tAmiens: 0.011496319435536861, 0.009119915775954723\n",
      "[INFO] > \tAmsterdam: 0.05969630926847458, 0.06338369846343994\n",
      "[INFO] > \tAntwerpen: 0.07402832061052322, 0.07970235496759415\n",
      "[INFO] > \tApeldoorn: 0.018608679994940758, 0.017817914485931396\n",
      "[INFO] > \tAugsburg: 0.022204546257853508, 0.029824547469615936\n",
      "[INFO] > \tBasel: 0.031923335045576096, 0.029919913038611412\n",
      "[INFO] > \tBerlin: 0.07556522637605667, 0.08720148354768753\n",
      "[INFO] > \tBesançon: 0.010874686762690544, 0.008458282798528671\n",
      "[INFO] > \tBraunschweig: 0.01963627338409424, 0.02577870525419712\n",
      "[INFO] > \tBreda: 0.039483442902565, 0.03942667692899704\n",
      "[INFO] > \tBremen: 0.034915339201688766, 0.042926009744405746\n",
      "[INFO] > \tBremerhaven: 0.014391888864338398, 0.01806812919676304\n",
      "[INFO] > \tBrighton: 0.01742498017847538, 0.017448578029870987\n",
      "[INFO] > \tBrno: 0.013767926953732967, 0.016586141660809517\n",
      "[INFO] > \tBrugge: 0.03266880288720131, 0.031358834356069565\n",
      "[INFO] > \tCharleroi: 0.038359854370355606, 0.03682979568839073\n",
      "[INFO] > \tChemnitz: 0.02389354817569256, 0.02948801778256893\n",
      "[INFO] > \tCopenhagen: 0.03527780622243881, 0.032190896570682526\n",
      "[INFO] > \tDijon: 0.012285836972296238, 0.007089728489518166\n",
      "[INFO] > \tEindhoven: 0.0401165708899498, 0.04474819451570511\n",
      "[INFO] > \tEnschede: 0.03097430430352688, 0.028534548357129097\n",
      "[INFO] > \tFreiburg: 0.02507750317454338, 0.02712496556341648\n",
      "[INFO] > \tGorzów Wielkopolski: 0.006310317199677229, 0.006840059533715248\n",
      "[INFO] > \tGroningen: 0.015595335513353348, 0.017883116379380226\n",
      "[INFO] > \tHannover: 0.037736259400844574, 0.04298444464802742\n",
      "[INFO] > \tHastings: 0.006643662694841623, 0.006556353531777859\n",
      "[INFO] > \tHeilbronn: 0.023900210857391357, 0.029591504484415054\n",
      "[INFO] > \tIpswich: 0.02037302404642105, 0.025285053998231888\n",
      "[INFO] > \tKarlsruhe: 0.04008517414331436, 0.048985883593559265\n",
      "[INFO] > \tKiel: 0.017177121713757515, 0.020351925864815712\n",
      "[INFO] > \tKingston upon Hull: 0.02191977947950363, 0.022435108199715614\n",
      "[INFO] > \tKoszalin: 0.003451539436355233, 0.007392491679638624\n",
      "[INFO] > \tKöln: 0.06376774609088898, 0.07967965304851532\n",
      "[INFO] > \tLe Havre: 0.017213668674230576, 0.017596444115042686\n",
      "[INFO] > \tLe Mans: 0.010721920058131218, 0.010433677583932877\n",
      "[INFO] > \tLeeds: 0.05492863804101944, 0.05367607623338699\n",
      "[INFO] > \tLegnica: 0.008638160303235054, 0.009234565310180187\n",
      "[INFO] > \tLeicester: 0.03594546765089035, 0.02862386591732502\n",
      "[INFO] > \tLiberec: 0.007050409913063049, 0.009710462763905525\n",
      "[INFO] > \tLille: 0.04347552731633186, 0.037666380405426025\n",
      "[INFO] > \tLondon: 0.13572216033935547, 0.12032515555620193\n",
      "[INFO] > \tMannheim: 0.04745808616280556, 0.05352408438920975\n",
      "[INFO] > \tMetz: 0.015346924774348736, 0.013590946793556213\n",
      "[INFO] > \tMilton Keynes: 0.02633199840784073, 0.027411814779043198\n",
      "[INFO] > \tMünster: 0.018815208226442337, 0.024069102481007576\n",
      "[INFO] > \tNancy: 0.01661519519984722, 0.016131693497300148\n",
      "[INFO] > \tNantes: 0.026620078831911087, 0.02222570963203907\n",
      "[INFO] > \tNorwich: 0.010872055776417255, 0.010821999050676823\n",
      "[INFO] > \tNürnberg: 0.03847426548600197, 0.04492851719260216\n",
      "[INFO] > \tOdense: 0.008651179261505604, 0.00646208506077528\n",
      "[INFO] > \tOpole: 0.00912472140043974, 0.010467627085745335\n",
      "[INFO] > \tOrléans: 0.015307649038732052, 0.01249447651207447\n",
      "[INFO] > \tOstrava: 0.01698612980544567, 0.0207218024879694\n",
      "[INFO] > \tPilsen: 0.008268852718174458, 0.009094229899346828\n",
      "[INFO] > \tPoznań: 0.02453664131462574, 0.024663209915161133\n",
      "[INFO] > \tReading: 0.0459287129342556, 0.042050350457429886\n",
      "[INFO] > \tRegensburg: 0.020047089084982872, 0.024419959634542465\n",
      "[INFO] > \tRostock: 0.01744738034904003, 0.018997112289071083\n",
      "[INFO] > \tRotterdam: 0.08357837796211243, 0.0923316553235054\n",
      "[INFO] > \tRouen: 0.019634004682302475, 0.017320329323410988\n",
      "[INFO] > \tSaarbrücken: 0.0339307002723217, 0.04106210172176361\n",
      "[INFO] > \tSaint Peters: 0.007247153203934431, 0.006636073347181082\n",
      "[INFO] > \tSalzburg: 0.020055672153830528, 0.029358111321926117\n",
      "[INFO] > \tSheffield: 0.03972946107387543, 0.038536522537469864\n",
      "[INFO] > \tSouthend-on-Sea: 0.029998205602169037, 0.02444339171051979\n",
      "[INFO] > \tStrasbourg: 0.04026690497994423, 0.03592851012945175\n",
      "[INFO] > \tStuttgart: 0.06573525816202164, 0.07615749537944794\n",
      "[INFO] > \tSunderland: 0.04240883141756058, 0.036116402596235275\n",
      "[INFO] > \tTours: 0.013541230000555515, 0.010322075337171555\n",
      "[INFO] > \tTrier: 0.01571633666753769, 0.016437064856290817\n",
      "[INFO] > \tUlm: 0.02406199462711811, 0.02765551768243313\n",
      "[INFO] > \tVienna: 0.04318810999393463, 0.060075145214796066\n",
      "[INFO] > \tWrocław: 0.023160871118307114, 0.02256581373512745\n",
      "[INFO] > \tWürzburg: 0.019648760557174683, 0.021815268322825432\n",
      "[INFO] > Mean: 0.029724171767451776\n"
     ]
    }
   ],
   "source": [
    "datasets = {\n",
    "    \"Test Data\": dataset_collection.test_data,\n",
    "    \"Validation Data\": dataset_collection.validation_data,\n",
    "    \"Training Data\": dataset_collection.training_data,\n",
    "}\n",
    "\n",
    "for name, data in datasets.items():\n",
    "    logger.info(f\"-------- {name} -------\")\n",
    "    result = _compute_mse_per_city(data)\n",
    "    for city, mse_values in result.items():\n",
    "        logger.info(f\"\\t{city}: {', '.join([str(v) for v in mse_values])}\")\n",
    "    means = []\n",
    "    for value in result.values():\n",
    "        means += value\n",
    "    logger.info(f\"Mean: {float(np.array(means).mean())}\")"
   ]
  }
 ],
 "metadata": {
  "kernelspec": {
   "display_name": "Python 3 (ipykernel)",
   "language": "python",
   "name": "python3"
  },
  "language_info": {
   "codemirror_mode": {
    "name": "ipython",
    "version": 3
   },
   "file_extension": ".py",
   "mimetype": "text/x-python",
   "name": "python",
   "nbconvert_exporter": "python",
   "pygments_lexer": "ipython3",
   "version": "3.11.0rc1"
  }
 },
 "nbformat": 4,
 "nbformat_minor": 5
}
