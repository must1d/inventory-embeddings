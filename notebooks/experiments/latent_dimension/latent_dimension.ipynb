{
 "cells": [
  {
   "cell_type": "code",
   "id": "initial_id",
   "metadata": {
    "collapsed": true,
    "ExecuteTime": {
     "end_time": "2024-09-22T09:40:50.112065Z",
     "start_time": "2024-09-22T09:40:48.151442Z"
    }
   },
   "source": [
    "from src.common.paths import ExperimentPath\n",
    "from src.dataset.tno_dataset_collection import TnoDatasetCollection\n",
    "from src.evaluation.evaluation_runner import EvaluationSettings, EvaluationRunner\n",
    "from src.inverse_problems.inverse_problems_solver import GenerativeModelSolver"
   ],
   "outputs": [],
   "execution_count": 1
  },
  {
   "metadata": {
    "ExecuteTime": {
     "end_time": "2024-09-22T09:40:50.114654Z",
     "start_time": "2024-09-22T09:40:50.112869Z"
    }
   },
   "cell_type": "code",
   "source": "EXPERIMENT_NAME = \"latent_dimension\"",
   "id": "34115572263f4702",
   "outputs": [],
   "execution_count": 2
  },
  {
   "metadata": {
    "ExecuteTime": {
     "end_time": "2024-09-22T09:40:50.117270Z",
     "start_time": "2024-09-22T09:40:50.115281Z"
    }
   },
   "cell_type": "code",
   "source": [
    "MODEL_256 = \"256\"\n",
    "MODEL_512 = \"512\"\n",
    "MODEL_1024 = \"1024\"\n",
    "MODEL_2048 = \"2048\"\n",
    "\n",
    "SNR = None # no noise considered here\n",
    "NUM_MEASUREMENTS = [500, 1000, 2500, 5000, 10000, 12500]"
   ],
   "id": "2226796195f97271",
   "outputs": [],
   "execution_count": 3
  },
  {
   "metadata": {
    "ExecuteTime": {
     "end_time": "2024-09-22T09:40:53.909111Z",
     "start_time": "2024-09-22T09:40:50.118540Z"
    }
   },
   "cell_type": "code",
   "source": [
    "dataset_collection = TnoDatasetCollection()\n",
    "\n",
    "dataset = dataset_collection.test_data.get_sub_dataset_of_year(year=2018)\n",
    "\n",
    "dataset.disable_temporal_transforms()"
   ],
   "id": "25121121a8c2b7a8",
   "outputs": [
    {
     "name": "stdout",
     "output_type": "stream",
     "text": [
      "[INFO] > Loading TNO data from '/home/must1d/Repositories/inventory-embeddings/data/TNO-GHGco-1km/TNO_by_city/TNO_GHGco_2015_highres_by_city.csv'\n",
      "[INFO] > Loading TNO data from '/home/must1d/Repositories/inventory-embeddings/data/TNO-GHGco-1km/TNO_by_city/TNO_GHGco_2018_highres_by_city.csv'\n",
      "[INFO] > Test Set has 13 unique cites!                           \n",
      "\tAachen, Dresden, Innsbruck, Reims, Prague, Magdeburg, Győr, Gdynia, Duisburg, Siegen, Szczecin, Großzschocher, Hamburg\n",
      "[INFO] > Validation Set has 15 unique cites!\n",
      "\tSouthampton, Kalisz, Nijmegen, Frankfurt am Main, Linz, Zielona Góra, Wałbrzych, Bielefeld, Erfurt, Brussels, Kassel, Koblenz, Angers, Bydgoszcz, Ingolstadt\n",
      "[INFO] > Training Set has 74 unique cites!\n",
      "\tFreiburg, Münster, Chemnitz, Braunschweig, Dijon, Antwerpen, Le Mans, London, Nancy, Kingston upon Hull, Orléans, Legnica, Copenhagen, Salzburg, Rotterdam, Sheffield, Karlsruhe, Ulm, Köln, Leeds, Rouen, Liberec, Stuttgart, Leicester, Groningen, Berlin, Hannover, Regensburg, Augsburg, Ostrava, Southend-on-Sea, Pilsen, Koszalin, Nürnberg, Mannheim, Saint Peters, Hastings, Brno, Breda, Ipswich, Brighton, Apeldoorn, Lille, Norwich, Poznań, Rostock, Metz, Saarbrücken, Gorzów Wielkopolski, Tours, Nantes, Amsterdam, Le Havre, Milton Keynes, Heilbronn, Besançon, Amiens, Reading, Wrocław, Eindhoven, Trier, Vienna, Bremen, Würzburg, Charleroi, Strasbourg, Bremerhaven, Brugge, Sunderland, Enschede, Opole, Odense, Basel, Kiel\n"
     ]
    }
   ],
   "execution_count": 4
  },
  {
   "metadata": {
    "ExecuteTime": {
     "end_time": "2024-09-22T09:40:55.160535Z",
     "start_time": "2024-09-22T09:40:53.909783Z"
    }
   },
   "cell_type": "code",
   "source": [
    "solvers = {\n",
    "    MODEL_256: GenerativeModelSolver.from_vae_model_name(MODEL_256),\n",
    "    MODEL_512: GenerativeModelSolver.from_vae_model_name(MODEL_512, plot_loss=True),\n",
    "    MODEL_1024: GenerativeModelSolver.from_vae_model_name(MODEL_1024, plot_loss=True),\n",
    "    MODEL_2048: GenerativeModelSolver.from_vae_model_name(MODEL_2048, plot_loss=True),\n",
    "}"
   ],
   "id": "f84e09d72e4849f6",
   "outputs": [],
   "execution_count": 5
  },
  {
   "metadata": {
    "ExecuteTime": {
     "end_time": "2024-09-22T09:40:55.163516Z",
     "start_time": "2024-09-22T09:40:55.161223Z"
    }
   },
   "cell_type": "code",
   "source": [
    "settings = EvaluationSettings(\n",
    "    measurements=NUM_MEASUREMENTS,\n",
    "    snr=[SNR],\n",
    "    dataset=dataset,\n",
    "    path=ExperimentPath(EXPERIMENT_NAME),\n",
    ")\n",
    "\n",
    "evaluation_runner = EvaluationRunner(settings=settings)"
   ],
   "id": "b001af41d1e5a015",
   "outputs": [],
   "execution_count": 6
  },
  {
   "metadata": {
    "jupyter": {
     "is_executing": true
    },
    "ExecuteTime": {
     "start_time": "2024-09-22T09:40:55.164085Z"
    }
   },
   "cell_type": "code",
   "source": "evaluation_runner.run(solvers=solvers)",
   "id": "66b61fe7d81b8e3",
   "outputs": [
    {
     "name": "stdout",
     "output_type": "stream",
     "text": [
      "Evaluation:   0%|          | 0/78 [00:00<?, ?it/s]"
     ]
    }
   ],
   "execution_count": null
  }
 ],
 "metadata": {
  "kernelspec": {
   "display_name": "Python 3",
   "language": "python",
   "name": "python3"
  },
  "language_info": {
   "codemirror_mode": {
    "name": "ipython",
    "version": 2
   },
   "file_extension": ".py",
   "mimetype": "text/x-python",
   "name": "python",
   "nbconvert_exporter": "python",
   "pygments_lexer": "ipython2",
   "version": "2.7.6"
  }
 },
 "nbformat": 4,
 "nbformat_minor": 5
}
