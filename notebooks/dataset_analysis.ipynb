{
 "cells": [
  {
   "cell_type": "code",
   "id": "2e9ce0ad11c9ab9c",
   "metadata": {
    "ExecuteTime": {
     "end_time": "2024-09-05T18:16:13.027801Z",
     "start_time": "2024-09-05T18:16:13.025546Z"
    }
   },
   "source": [
    "from copy import deepcopy\n",
    "\n",
    "import numpy as np\n",
    "\n",
    "from src.common.log import logger\n",
    "from src.dataset.emission_field_transforms import CenterCropTransform\n",
    "from src.dataset.tno_dataset import TnoDataset\n",
    "from src.dataset.tno_dataset_collection import TnoDatasetCollection\n",
    "from src.models.common.metrics import mse\n",
    "from src.models.vae.vae import VariationalAutoEncoder"
   ],
   "outputs": [],
   "execution_count": 8
  },
  {
   "cell_type": "code",
   "id": "initial_id",
   "metadata": {
    "ExecuteTime": {
     "end_time": "2024-09-05T18:16:15.603756Z",
     "start_time": "2024-09-05T18:16:13.032843Z"
    }
   },
   "source": [
    "dataset_collection = TnoDatasetCollection()"
   ],
   "outputs": [
    {
     "name": "stdout",
     "output_type": "stream",
     "text": [
      "[INFO] > Loading TNO data from '/home/must1d/Repositories/inventory-embeddings/data/TNO-GHGco-1km/TNO_by_city/TNO_GHGco_2015_highres_by_city.csv'\n",
      "[INFO] > Loading TNO data from '/home/must1d/Repositories/inventory-embeddings/data/TNO-GHGco-1km/TNO_by_city/TNO_GHGco_2018_highres_by_city.csv'\n",
      "[INFO] > Test Set has 13 unique cites!                          \n",
      "\tReims, Hamburg, Duisburg, Gdynia, Magdeburg, Szczecin, Győr, Prague, Aachen, Dresden, Innsbruck, Großzschocher, Siegen\n",
      "[INFO] > Validation Set has 15 unique cites!\n",
      "\tIngolstadt, Linz, Kalisz, Koblenz, Bydgoszcz, Angers, Kassel, Nijmegen, Southampton, Brussels, Wałbrzych, Bielefeld, Frankfurt am Main, Erfurt, Zielona Góra\n",
      "[INFO] > Training Set has 74 unique cites!\n",
      "\tBremerhaven, Pilsen, Rouen, Wrocław, Metz, Amsterdam, Le Havre, Saint Peters, Augsburg, London, Brighton, Antwerpen, Groningen, Chemnitz, Mannheim, Orléans, Basel, Braunschweig, Köln, Legnica, Milton Keynes, Ulm, Trier, Nancy, Regensburg, Besançon, Freiburg, Leicester, Reading, Vienna, Würzburg, Copenhagen, Nürnberg, Rotterdam, Brno, Berlin, Salzburg, Breda, Ostrava, Le Mans, Kingston upon Hull, Apeldoorn, Leeds, Enschede, Kiel, Saarbrücken, Koszalin, Ipswich, Lille, Norwich, Amiens, Odense, Strasbourg, Stuttgart, Charleroi, Gorzów Wielkopolski, Karlsruhe, Münster, Sunderland, Hastings, Nantes, Opole, Bremen, Liberec, Tours, Poznań, Heilbronn, Brugge, Hannover, Sheffield, Southend-on-Sea, Rostock, Dijon, Eindhoven\n"
     ]
    }
   ],
   "execution_count": 9
  },
  {
   "cell_type": "markdown",
   "id": "854b4165c494139f",
   "metadata": {},
   "source": [
    "# Mean of data"
   ]
  },
  {
   "cell_type": "code",
   "id": "60c4dda06c16f73a",
   "metadata": {
    "ExecuteTime": {
     "end_time": "2024-09-05T18:16:15.606778Z",
     "start_time": "2024-09-05T18:16:15.604699Z"
    }
   },
   "source": [
    "def _compute_mean(tno_dataset: TnoDataset) -> float:\n",
    "    m = np.zeros(len(tno_dataset.city_emission_fields))\n",
    "    for i, c in enumerate(tno_dataset.city_emission_fields):\n",
    "        m[i] = c.co2_ff_field.mean()\n",
    "    return float(m.mean())"
   ],
   "outputs": [],
   "execution_count": 10
  },
  {
   "cell_type": "code",
   "id": "cf960c655af06bcd",
   "metadata": {
    "ExecuteTime": {
     "end_time": "2024-09-05T18:16:15.614159Z",
     "start_time": "2024-09-05T18:16:15.607358Z"
    }
   },
   "source": [
    "logger.info(f\"Mean of training data:\\t\\t{_compute_mean(dataset_collection.training_data)}\")\n",
    "logger.info(f\"Mean of validation data:\\t{_compute_mean(dataset_collection.validation_data)}\")\n",
    "logger.info(f\"Mean of test data:\\t\\t{_compute_mean(dataset_collection.test_data)}\")"
   ],
   "outputs": [
    {
     "name": "stdout",
     "output_type": "stream",
     "text": [
      "[INFO] > Mean of training data:\t\t0.045735363120123676\n",
      "[INFO] > Mean of validation data:\t0.04517446150369493\n",
      "[INFO] > Mean of test data:\t\t0.04488871208793886\n"
     ]
    }
   ],
   "execution_count": 11
  },
  {
   "cell_type": "markdown",
   "id": "1839c1d6918da62",
   "metadata": {},
   "source": [
    "# Reconstruction MSE per City"
   ]
  },
  {
   "cell_type": "code",
   "id": "bbaf15a9381e2299",
   "metadata": {
    "ExecuteTime": {
     "end_time": "2024-09-05T18:16:16.113490Z",
     "start_time": "2024-09-05T18:16:15.615084Z"
    }
   },
   "source": [
    "MODEL_NAME = \"2048\"\n",
    "\n",
    "vae = VariationalAutoEncoder.load(MODEL_NAME)"
   ],
   "outputs": [],
   "execution_count": 12
  },
  {
   "cell_type": "code",
   "id": "43df51a685200c7f",
   "metadata": {
    "ExecuteTime": {
     "end_time": "2024-09-05T18:16:16.117326Z",
     "start_time": "2024-09-05T18:16:16.114507Z"
    }
   },
   "source": [
    "crop_transform = CenterCropTransform(\n",
    "    TnoDatasetCollection.CROPPED_WIDTH,\n",
    "    TnoDatasetCollection.CROPPED_HEIGHT\n",
    ")\n",
    "\n",
    "def _compute_mse_per_city(tno_dataset: TnoDataset) -> dict[str, list[float]]:\n",
    "    resulting_dict: dict[str, list[float]] = {}\n",
    "    for c in tno_dataset.city_emission_fields:\n",
    "        current_mse = resulting_dict.get(c.city_name, [])\n",
    "        transformed_city = crop_transform(deepcopy(c))\n",
    "        x = transformed_city.co2_ff_tensor\n",
    "        x_hat = vae.reconstruct(x)\n",
    "        current_mse.append(float(mse(x, x_hat)))\n",
    "        resulting_dict[c.city_name] = current_mse\n",
    "\n",
    "    return resulting_dict"
   ],
   "outputs": [],
   "execution_count": 13
  },
  {
   "cell_type": "code",
   "id": "91ea2910d92e7a18",
   "metadata": {
    "ExecuteTime": {
     "end_time": "2024-09-05T18:16:16.897056Z",
     "start_time": "2024-09-05T18:16:16.117931Z"
    }
   },
   "source": [
    "datasets = {\n",
    "    \"Test Data\": dataset_collection.test_data,\n",
    "    \"Validation Data\": dataset_collection.validation_data,\n",
    "    \"Training Data\": dataset_collection.training_data,\n",
    "}\n",
    "\n",
    "for name, data in datasets.items():\n",
    "    logger.info(f\"-------- {name} -------\")\n",
    "    result = _compute_mse_per_city(data)\n",
    "    for city, mse_values in result.items():\n",
    "        logger.info(f\"\\t{city}: {', '.join([str(v) for v in mse_values])}\")\n",
    "    means = []\n",
    "    for value in result.values():\n",
    "        means += value\n",
    "    logger.info(f\"Mean: {float(np.array(means).mean())}\")"
   ],
   "outputs": [
    {
     "name": "stdout",
     "output_type": "stream",
     "text": [
      "[INFO] > -------- Test Data -------\n",
      "[INFO] > \tAachen: 0.03450087830424309, 0.0366925485432148\n",
      "[INFO] > \tDresden: 0.027638111263513565, 0.03563503921031952\n",
      "[INFO] > \tDuisburg: 0.07061716169118881, 0.08480164408683777\n",
      "[INFO] > \tGdynia: 0.023331526666879654, 0.026205124333500862\n",
      "[INFO] > \tGroßzschocher: 0.0322684571146965, 0.03886016830801964\n",
      "[INFO] > \tGyőr: 0.005651071202009916, 0.00368107738904655\n",
      "[INFO] > \tHamburg: 0.06658349186182022, 0.08469772338867188\n",
      "[INFO] > \tInnsbruck: 0.016359740868210793, 0.02484234981238842\n",
      "[INFO] > \tMagdeburg: 0.020373499020934105, 0.027417179197072983\n",
      "[INFO] > \tPrague: 0.03272707015275955, 0.03778918460011482\n",
      "[INFO] > \tReims: 0.01786777563393116, 0.013396251946687698\n",
      "[INFO] > \tSiegen: 0.020703358575701714, 0.023225633427500725\n",
      "[INFO] > \tSzczecin: 0.021198328584432602, 0.021334443241357803\n",
      "[INFO] > Mean: 0.032630724554809816\n",
      "[INFO] > -------- Validation Data -------\n",
      "[INFO] > \tAngers: 0.021621691063046455, 0.01821845769882202\n",
      "[INFO] > \tBielefeld: 0.02894086390733719, 0.035382941365242004\n",
      "[INFO] > \tBrussels: 0.09995204955339432, 0.10336006432771683\n",
      "[INFO] > \tBydgoszcz: 0.02041664719581604, 0.015702983364462852\n",
      "[INFO] > \tErfurt: 0.017513366416096687, 0.024377521127462387\n",
      "[INFO] > \tFrankfurt am Main: 0.06637033075094223, 0.08088874816894531\n",
      "[INFO] > \tIngolstadt: 0.022353263571858406, 0.02915678732097149\n",
      "[INFO] > \tKalisz: 0.007056961767375469, 0.0068711284548044205\n",
      "[INFO] > \tKassel: 0.025599343702197075, 0.032920245081186295\n",
      "[INFO] > \tKoblenz: 0.026617836207151413, 0.03363727778196335\n",
      "[INFO] > \tLinz: 0.03539867326617241, 0.06331788748502731\n",
      "[INFO] > \tNijmegen: 0.04326580464839935, 0.047419797629117966\n",
      "[INFO] > \tSouthampton: 0.05952530354261398, 0.040755745023489\n",
      "[INFO] > \tWałbrzych: 0.010195071808993816, 0.009212701581418514\n",
      "[INFO] > \tZielona Góra: 0.007613036315888166, 0.009247257374227047\n",
      "[INFO] > Mean: 0.03476365958340466\n",
      "[INFO] > -------- Training Data -------\n",
      "[INFO] > \tAmiens: 0.011578941717743874, 0.010925128124654293\n",
      "[INFO] > \tAmsterdam: 0.06298846751451492, 0.06501276046037674\n",
      "[INFO] > \tAntwerpen: 0.07856455445289612, 0.07698888331651688\n",
      "[INFO] > \tApeldoorn: 0.018610619008541107, 0.018950946629047394\n",
      "[INFO] > \tAugsburg: 0.022289322689175606, 0.028289560228586197\n",
      "[INFO] > \tBasel: 0.03257141634821892, 0.031548526138067245\n",
      "[INFO] > \tBerlin: 0.07071446627378464, 0.090788334608078\n",
      "[INFO] > \tBesançon: 0.010039866901934147, 0.008287275210022926\n",
      "[INFO] > \tBraunschweig: 0.022598130628466606, 0.024602776393294334\n",
      "[INFO] > \tBreda: 0.04793113097548485, 0.03943909332156181\n",
      "[INFO] > \tBremen: 0.03376865014433861, 0.042658258229494095\n",
      "[INFO] > \tBremerhaven: 0.015766117721796036, 0.019186263903975487\n",
      "[INFO] > \tBrighton: 0.019937941804528236, 0.019242556765675545\n",
      "[INFO] > \tBrno: 0.012325801886618137, 0.016239110380411148\n",
      "[INFO] > \tBrugge: 0.03270208463072777, 0.03290931507945061\n",
      "[INFO] > \tCharleroi: 0.03667182847857475, 0.038061562925577164\n",
      "[INFO] > \tChemnitz: 0.022089369595050812, 0.026525672525167465\n",
      "[INFO] > \tCopenhagen: 0.04588409513235092, 0.03550774231553078\n",
      "[INFO] > \tDijon: 0.01089153066277504, 0.009689533151686192\n",
      "[INFO] > \tEindhoven: 0.04235678166151047, 0.04605783522129059\n",
      "[INFO] > \tEnschede: 0.026974407956004143, 0.02946600317955017\n",
      "[INFO] > \tFreiburg: 0.023900341242551804, 0.026189018040895462\n",
      "[INFO] > \tGorzów Wielkopolski: 0.006965996231883764, 0.006416622083634138\n",
      "[INFO] > \tGroningen: 0.01567930541932583, 0.018300361931324005\n",
      "[INFO] > \tHannover: 0.0366874597966671, 0.04352063685655594\n",
      "[INFO] > \tHastings: 0.008418410085141659, 0.007223161868751049\n",
      "[INFO] > \tHeilbronn: 0.024911586195230484, 0.028520388528704643\n",
      "[INFO] > \tIpswich: 0.021911263465881348, 0.01956249214708805\n",
      "[INFO] > \tKarlsruhe: 0.042845964431762695, 0.045664869248867035\n",
      "[INFO] > \tKiel: 0.01680155284702778, 0.020304828882217407\n",
      "[INFO] > \tKingston upon Hull: 0.023142941296100616, 0.02424391731619835\n",
      "[INFO] > \tKoszalin: 0.0028371219523251057, 0.0068053449504077435\n",
      "[INFO] > \tKöln: 0.06795522570610046, 0.077597476541996\n",
      "[INFO] > \tLe Havre: 0.018467597663402557, 0.013577350415289402\n",
      "[INFO] > \tLe Mans: 0.011341307312250137, 0.008620101027190685\n",
      "[INFO] > \tLeeds: 0.05680149793624878, 0.04998517036437988\n",
      "[INFO] > \tLegnica: 0.006992789451032877, 0.010240974836051464\n",
      "[INFO] > \tLeicester: 0.03207620605826378, 0.029967090114951134\n",
      "[INFO] > \tLiberec: 0.0071221510879695415, 0.00969734974205494\n",
      "[INFO] > \tLille: 0.046698082238435745, 0.033799909055233\n",
      "[INFO] > \tLondon: 0.13104696571826935, 0.12206217646598816\n",
      "[INFO] > \tMannheim: 0.048425786197185516, 0.060958899557590485\n",
      "[INFO] > \tMetz: 0.015353606082499027, 0.013241594657301903\n",
      "[INFO] > \tMilton Keynes: 0.026089254766702652, 0.02533990517258644\n",
      "[INFO] > \tMünster: 0.01864004135131836, 0.024423761293292046\n",
      "[INFO] > \tNancy: 0.01762845180928707, 0.014050626195967197\n",
      "[INFO] > \tNantes: 0.02458546683192253, 0.021382711827754974\n",
      "[INFO] > \tNorwich: 0.009940779767930508, 0.011191258206963539\n",
      "[INFO] > \tNürnberg: 0.036358971148729324, 0.04291043058037758\n",
      "[INFO] > \tOdense: 0.007811948657035828, 0.0067583173513412476\n",
      "[INFO] > \tOpole: 0.009326946921646595, 0.011586139909923077\n",
      "[INFO] > \tOrléans: 0.013977382332086563, 0.012953263707458973\n",
      "[INFO] > \tOstrava: 0.020037086680531502, 0.021375006064772606\n",
      "[INFO] > \tPilsen: 0.007518579252064228, 0.00950052309781313\n",
      "[INFO] > \tPoznań: 0.024857154116034508, 0.027050847187638283\n",
      "[INFO] > \tReading: 0.0435306616127491, 0.04831511154770851\n",
      "[INFO] > \tRegensburg: 0.020292436704039574, 0.023693004623055458\n",
      "[INFO] > \tRostock: 0.015202336944639683, 0.019651291891932487\n",
      "[INFO] > \tRotterdam: 0.09502283483743668, 0.0938822329044342\n",
      "[INFO] > \tRouen: 0.01956859603524208, 0.016435246914625168\n",
      "[INFO] > \tSaarbrücken: 0.03627122566103935, 0.037719953805208206\n",
      "[INFO] > \tSaint Peters: 0.007703231647610664, 0.006834929343312979\n",
      "[INFO] > \tSalzburg: 0.020798461511731148, 0.03234842047095299\n",
      "[INFO] > \tSheffield: 0.04293724521994591, 0.036370065063238144\n",
      "[INFO] > \tSouthend-on-Sea: 0.03026246838271618, 0.027065442875027657\n",
      "[INFO] > \tStrasbourg: 0.04235566407442093, 0.04130280017852783\n",
      "[INFO] > \tStuttgart: 0.0602119117975235, 0.07397102564573288\n",
      "[INFO] > \tSunderland: 0.03551420196890831, 0.036593157798051834\n",
      "[INFO] > \tTours: 0.014372529461979866, 0.011041238903999329\n",
      "[INFO] > \tTrier: 0.01541229523718357, 0.016857167705893517\n",
      "[INFO] > \tUlm: 0.023410284891724586, 0.02793518826365471\n",
      "[INFO] > \tVienna: 0.043055210262537, 0.0640125721693039\n",
      "[INFO] > \tWrocław: 0.027141891419887543, 0.021803313866257668\n",
      "[INFO] > \tWürzburg: 0.019592825323343277, 0.024290509521961212\n",
      "[INFO] > Mean: 0.030058036473378336\n"
     ]
    }
   ],
   "execution_count": 14
  }
 ],
 "metadata": {
  "kernelspec": {
   "display_name": "Python 3 (ipykernel)",
   "language": "python",
   "name": "python3"
  },
  "language_info": {
   "codemirror_mode": {
    "name": "ipython",
    "version": 3
   },
   "file_extension": ".py",
   "mimetype": "text/x-python",
   "name": "python",
   "nbconvert_exporter": "python",
   "pygments_lexer": "ipython3",
   "version": "3.11.0rc1"
  }
 },
 "nbformat": 4,
 "nbformat_minor": 5
}
