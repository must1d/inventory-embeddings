{
 "cells": [
  {
   "cell_type": "code",
   "id": "initial_id",
   "metadata": {
    "collapsed": true,
    "ExecuteTime": {
     "end_time": "2024-09-17T17:33:29.815527Z",
     "start_time": "2024-09-17T17:33:29.813099Z"
    }
   },
   "source": [
    "import sys\n",
    "\n",
    "import numpy as np\n",
    "from tqdm import tqdm\n",
    "\n",
    "from src.common.log import logger\n",
    "from src.dataset.tno_dataset_collection import TnoDatasetCollection\n",
    "from src.inverse_problems.compressed_sensing_problem import SectorWiseCompressedSensingProblem\n",
    "from src.inverse_problems.inverse_problems_solver import GenerativeModelSolver\n",
    "from src.models.common.metrics import ssim, relative_error"
   ],
   "outputs": [],
   "execution_count": 7
  },
  {
   "metadata": {
    "ExecuteTime": {
     "end_time": "2024-09-17T17:33:29.819988Z",
     "start_time": "2024-09-17T17:33:29.817952Z"
    }
   },
   "cell_type": "code",
   "source": [
    "MODEL_256 = \"256\"\n",
    "MODEL_512 = \"512\"\n",
    "MODEL_1024 = \"1024\"\n",
    "MODEL_2048 = \"2048\"\n",
    "\n",
    "SNR = None # no noise considered here\n",
    "NUM_MEASUREMENTS = [5000]"
   ],
   "id": "2226796195f97271",
   "outputs": [],
   "execution_count": 8
  },
  {
   "metadata": {
    "ExecuteTime": {
     "end_time": "2024-09-17T17:33:33.694548Z",
     "start_time": "2024-09-17T17:33:29.820987Z"
    }
   },
   "cell_type": "code",
   "source": [
    "dataset_collection = TnoDatasetCollection()\n",
    "\n",
    "dataset = dataset_collection.test_data\n",
    "\n",
    "dataset.disable_temporal_transforms()"
   ],
   "id": "25121121a8c2b7a8",
   "outputs": [
    {
     "name": "stdout",
     "output_type": "stream",
     "text": [
      "[INFO] > Loading TNO data from '/home/must1d/Repositories/inventory-embeddings/data/TNO-GHGco-1km/TNO_by_city/TNO_GHGco_2015_highres_by_city.csv'\n",
      "[INFO] > Loading TNO data from '/home/must1d/Repositories/inventory-embeddings/data/TNO-GHGco-1km/TNO_by_city/TNO_GHGco_2018_highres_by_city.csv'\n",
      "[INFO] > Test Set has 13 unique cites!                           \n",
      "\tDresden, Prague, Großzschocher, Győr, Innsbruck, Reims, Gdynia, Hamburg, Magdeburg, Aachen, Duisburg, Siegen, Szczecin\n",
      "[INFO] > Validation Set has 15 unique cites!\n",
      "\tKoblenz, Ingolstadt, Southampton, Bielefeld, Linz, Bydgoszcz, Frankfurt am Main, Kalisz, Brussels, Wałbrzych, Erfurt, Zielona Góra, Angers, Kassel, Nijmegen\n",
      "[INFO] > Training Set has 74 unique cites!\n",
      "\tKöln, Mannheim, Le Mans, Brighton, Vienna, Nantes, Regensburg, Amsterdam, Lille, Bremen, Le Havre, Odense, Ostrava, Wrocław, Freiburg, Charleroi, Antwerpen, Gorzów Wielkopolski, Ipswich, Sheffield, Eindhoven, Reading, Augsburg, Rotterdam, Copenhagen, Saint Peters, Trier, Bremerhaven, Rouen, Besançon, Braunschweig, Münster, Apeldoorn, Sunderland, Brugge, Brno, Kiel, Basel, Ulm, Kingston upon Hull, Rostock, Leeds, Milton Keynes, Hannover, Karlsruhe, Nancy, Legnica, Würzburg, Enschede, London, Metz, Pilsen, Stuttgart, Berlin, Opole, Amiens, Saarbrücken, Southend-on-Sea, Koszalin, Leicester, Poznań, Hastings, Salzburg, Chemnitz, Tours, Liberec, Breda, Dijon, Orléans, Norwich, Nürnberg, Strasbourg, Heilbronn, Groningen\n"
     ]
    }
   ],
   "execution_count": 9
  },
  {
   "metadata": {
    "ExecuteTime": {
     "end_time": "2024-09-17T17:33:34.624073Z",
     "start_time": "2024-09-17T17:33:33.695100Z"
    }
   },
   "cell_type": "code",
   "source": [
    "solvers = {\n",
    "    MODEL_256: GenerativeModelSolver.from_vae_model_name(MODEL_256, plot_loss=True),\n",
    "    MODEL_512: GenerativeModelSolver.from_vae_model_name(MODEL_512, plot_loss=True),\n",
    "    MODEL_1024: GenerativeModelSolver.from_vae_model_name(MODEL_1024, plot_loss=True),\n",
    "    MODEL_2048: GenerativeModelSolver.from_vae_model_name(MODEL_2048, plot_loss=True),\n",
    "}"
   ],
   "id": "f84e09d72e4849f6",
   "outputs": [],
   "execution_count": 10
  },
  {
   "metadata": {
    "ExecuteTime": {
     "end_time": "2024-09-17T17:33:34.627246Z",
     "start_time": "2024-09-17T17:33:34.625021Z"
    }
   },
   "cell_type": "code",
   "source": [
    "l2_relative_errors_results: dict[str, dict[int, list[float]]] = {} # Model Name -> Num Measurements -> Relative Error (per test datapoint)\n",
    "ssim_results: dict[str, dict[int, list[float]]] = {} # Model Name -> Num Measurements -> SSIM (per test datapoint)\n",
    "\n",
    "for mode_name in solvers.keys():\n",
    "    l2_relative_errors_results[mode_name] = {}\n",
    "    ssim_results[mode_name] = {}\n",
    "\n",
    "    for num_measurements in NUM_MEASUREMENTS:\n",
    "        l2_relative_errors_results[mode_name][num_measurements] = []\n",
    "        ssim_results[mode_name][num_measurements] = []"
   ],
   "id": "399322d92e612d1c",
   "outputs": [],
   "execution_count": 11
  },
  {
   "metadata": {
    "ExecuteTime": {
     "end_time": "2024-09-17T17:34:48.004948Z",
     "start_time": "2024-09-17T17:33:34.627917Z"
    }
   },
   "cell_type": "code",
   "source": [
    "num_reconstructions = len(NUM_MEASUREMENTS) * len(dataset) * len(solvers)\n",
    "\n",
    "with tqdm(total=num_reconstructions, leave=False, desc=\"Evaluation\", file=sys.stdout) as bar:\n",
    "    for num_measurements in NUM_MEASUREMENTS:\n",
    "        for x in dataset:\n",
    "            problem = SectorWiseCompressedSensingProblem.generate_random_sector_wise_measurements(x=x, num_measurements=num_measurements, snr=SNR)\n",
    "            \n",
    "            for solver_name, solver in solvers.items():\n",
    "                x_rec = problem.solve(solver)\n",
    "                l2_relative_errors_results[solver_name][num_measurements].append(relative_error(x, x_rec).item())\n",
    "                ssim_results[solver_name][num_measurements].append(ssim(x, x_rec).item())\n",
    "                \n",
    "                bar.update()"
   ],
   "id": "b001af41d1e5a015",
   "outputs": [
    {
     "name": "stdout",
     "output_type": "stream",
     "text": [
      "                                                           \r"
     ]
    },
    {
     "ename": "KeyboardInterrupt",
     "evalue": "",
     "output_type": "error",
     "traceback": [
      "\u001B[0;31m---------------------------------------------------------------------------\u001B[0m",
      "\u001B[0;31mKeyboardInterrupt\u001B[0m                         Traceback (most recent call last)",
      "Cell \u001B[0;32mIn[12], line 9\u001B[0m\n\u001B[1;32m      6\u001B[0m problem \u001B[38;5;241m=\u001B[39m SectorWiseCompressedSensingProblem\u001B[38;5;241m.\u001B[39mgenerate_random_sector_wise_measurements(x\u001B[38;5;241m=\u001B[39mx, num_measurements\u001B[38;5;241m=\u001B[39mnum_measurements, snr\u001B[38;5;241m=\u001B[39mSNR)\n\u001B[1;32m      8\u001B[0m \u001B[38;5;28;01mfor\u001B[39;00m solver_name, solver \u001B[38;5;129;01min\u001B[39;00m solvers\u001B[38;5;241m.\u001B[39mitems():\n\u001B[0;32m----> 9\u001B[0m     x_rec \u001B[38;5;241m=\u001B[39m \u001B[43mproblem\u001B[49m\u001B[38;5;241;43m.\u001B[39;49m\u001B[43msolve\u001B[49m\u001B[43m(\u001B[49m\u001B[43msolver\u001B[49m\u001B[43m)\u001B[49m\n\u001B[1;32m     10\u001B[0m     l2_relative_errors_results[solver_name][num_measurements]\u001B[38;5;241m.\u001B[39mappend(relative_error(x, x_rec)\u001B[38;5;241m.\u001B[39mitem())\n\u001B[1;32m     11\u001B[0m     ssim_results[solver_name][num_measurements]\u001B[38;5;241m.\u001B[39mappend(ssim(x, x_rec)\u001B[38;5;241m.\u001B[39mitem())\n",
      "File \u001B[0;32m~/Repositories/inventory-embeddings/src/inverse_problems/compressed_sensing_problem.py:25\u001B[0m, in \u001B[0;36mCompressedSensingProblem.solve\u001B[0;34m(self, solver, **settings)\u001B[0m\n\u001B[1;32m     24\u001B[0m \u001B[38;5;28;01mdef\u001B[39;00m \u001B[38;5;21msolve\u001B[39m(\u001B[38;5;28mself\u001B[39m, solver: InverseProblemSolver, \u001B[38;5;241m*\u001B[39m\u001B[38;5;241m*\u001B[39msettings: \u001B[38;5;28mdict\u001B[39m[\u001B[38;5;28mstr\u001B[39m, Any]) \u001B[38;5;241m-\u001B[39m\u001B[38;5;241m>\u001B[39m Tensor:\n\u001B[0;32m---> 25\u001B[0m     x_rec_vectorized \u001B[38;5;241m=\u001B[39m \u001B[43msolver\u001B[49m\u001B[38;5;241;43m.\u001B[39;49m\u001B[43msolve\u001B[49m\u001B[43m(\u001B[49m\u001B[38;5;28;43mself\u001B[39;49m\u001B[38;5;241;43m.\u001B[39;49m\u001B[43minverse_problem\u001B[49m\u001B[43m,\u001B[49m\u001B[43m \u001B[49m\u001B[38;5;241;43m*\u001B[39;49m\u001B[38;5;241;43m*\u001B[39;49m\u001B[43msettings\u001B[49m\u001B[43m)\u001B[49m\n\u001B[1;32m     26\u001B[0m     \u001B[38;5;28;01mreturn\u001B[39;00m \u001B[38;5;28mself\u001B[39m\u001B[38;5;241m.\u001B[39m_un_vectorize(x_rec_vectorized)\n",
      "File \u001B[0;32m~/Repositories/inventory-embeddings/src/inverse_problems/inverse_problems_solver/_generative_model_solver.py:139\u001B[0m, in \u001B[0;36mGenerativeModelSolver.solve\u001B[0;34m(self, inverse_problem, **settings)\u001B[0m\n\u001B[1;32m    137\u001B[0m \u001B[38;5;28;01mfor\u001B[39;00m iteration \u001B[38;5;129;01min\u001B[39;00m \u001B[38;5;28mrange\u001B[39m(\u001B[38;5;28mself\u001B[39m\u001B[38;5;241m.\u001B[39mMAX_STEPS):\n\u001B[1;32m    138\u001B[0m     loss \u001B[38;5;241m=\u001B[39m \u001B[38;5;28mself\u001B[39m\u001B[38;5;241m.\u001B[39m_target(A\u001B[38;5;241m=\u001B[39ma_on_device, y\u001B[38;5;241m=\u001B[39my_on_device, z\u001B[38;5;241m=\u001B[39mz, regularization_factor\u001B[38;5;241m=\u001B[39mregularization_factor)\n\u001B[0;32m--> 139\u001B[0m     \u001B[43mloss\u001B[49m\u001B[38;5;241;43m.\u001B[39;49m\u001B[43mbackward\u001B[49m\u001B[43m(\u001B[49m\u001B[43m)\u001B[49m\n\u001B[1;32m    140\u001B[0m     torch\u001B[38;5;241m.\u001B[39mnn\u001B[38;5;241m.\u001B[39mutils\u001B[38;5;241m.\u001B[39mclip_grad_norm_(z, max_norm\u001B[38;5;241m=\u001B[39m\u001B[38;5;241m0.5\u001B[39m)\n\u001B[1;32m    141\u001B[0m     optimizer\u001B[38;5;241m.\u001B[39mstep()\n",
      "File \u001B[0;32m~/.cache/pypoetry/virtualenvs/inventory-embeddings-balT-6-f-py3.11/lib/python3.11/site-packages/torch/_tensor.py:522\u001B[0m, in \u001B[0;36mTensor.backward\u001B[0;34m(self, gradient, retain_graph, create_graph, inputs)\u001B[0m\n\u001B[1;32m    512\u001B[0m \u001B[38;5;28;01mif\u001B[39;00m has_torch_function_unary(\u001B[38;5;28mself\u001B[39m):\n\u001B[1;32m    513\u001B[0m     \u001B[38;5;28;01mreturn\u001B[39;00m handle_torch_function(\n\u001B[1;32m    514\u001B[0m         Tensor\u001B[38;5;241m.\u001B[39mbackward,\n\u001B[1;32m    515\u001B[0m         (\u001B[38;5;28mself\u001B[39m,),\n\u001B[0;32m   (...)\u001B[0m\n\u001B[1;32m    520\u001B[0m         inputs\u001B[38;5;241m=\u001B[39minputs,\n\u001B[1;32m    521\u001B[0m     )\n\u001B[0;32m--> 522\u001B[0m \u001B[43mtorch\u001B[49m\u001B[38;5;241;43m.\u001B[39;49m\u001B[43mautograd\u001B[49m\u001B[38;5;241;43m.\u001B[39;49m\u001B[43mbackward\u001B[49m\u001B[43m(\u001B[49m\n\u001B[1;32m    523\u001B[0m \u001B[43m    \u001B[49m\u001B[38;5;28;43mself\u001B[39;49m\u001B[43m,\u001B[49m\u001B[43m \u001B[49m\u001B[43mgradient\u001B[49m\u001B[43m,\u001B[49m\u001B[43m \u001B[49m\u001B[43mretain_graph\u001B[49m\u001B[43m,\u001B[49m\u001B[43m \u001B[49m\u001B[43mcreate_graph\u001B[49m\u001B[43m,\u001B[49m\u001B[43m \u001B[49m\u001B[43minputs\u001B[49m\u001B[38;5;241;43m=\u001B[39;49m\u001B[43minputs\u001B[49m\n\u001B[1;32m    524\u001B[0m \u001B[43m\u001B[49m\u001B[43m)\u001B[49m\n",
      "File \u001B[0;32m~/.cache/pypoetry/virtualenvs/inventory-embeddings-balT-6-f-py3.11/lib/python3.11/site-packages/torch/autograd/__init__.py:266\u001B[0m, in \u001B[0;36mbackward\u001B[0;34m(tensors, grad_tensors, retain_graph, create_graph, grad_variables, inputs)\u001B[0m\n\u001B[1;32m    261\u001B[0m     retain_graph \u001B[38;5;241m=\u001B[39m create_graph\n\u001B[1;32m    263\u001B[0m \u001B[38;5;66;03m# The reason we repeat the same comment below is that\u001B[39;00m\n\u001B[1;32m    264\u001B[0m \u001B[38;5;66;03m# some Python versions print out the first line of a multi-line function\u001B[39;00m\n\u001B[1;32m    265\u001B[0m \u001B[38;5;66;03m# calls in the traceback and some print out the last line\u001B[39;00m\n\u001B[0;32m--> 266\u001B[0m \u001B[43mVariable\u001B[49m\u001B[38;5;241;43m.\u001B[39;49m\u001B[43m_execution_engine\u001B[49m\u001B[38;5;241;43m.\u001B[39;49m\u001B[43mrun_backward\u001B[49m\u001B[43m(\u001B[49m\u001B[43m  \u001B[49m\u001B[38;5;66;43;03m# Calls into the C++ engine to run the backward pass\u001B[39;49;00m\n\u001B[1;32m    267\u001B[0m \u001B[43m    \u001B[49m\u001B[43mtensors\u001B[49m\u001B[43m,\u001B[49m\n\u001B[1;32m    268\u001B[0m \u001B[43m    \u001B[49m\u001B[43mgrad_tensors_\u001B[49m\u001B[43m,\u001B[49m\n\u001B[1;32m    269\u001B[0m \u001B[43m    \u001B[49m\u001B[43mretain_graph\u001B[49m\u001B[43m,\u001B[49m\n\u001B[1;32m    270\u001B[0m \u001B[43m    \u001B[49m\u001B[43mcreate_graph\u001B[49m\u001B[43m,\u001B[49m\n\u001B[1;32m    271\u001B[0m \u001B[43m    \u001B[49m\u001B[43minputs\u001B[49m\u001B[43m,\u001B[49m\n\u001B[1;32m    272\u001B[0m \u001B[43m    \u001B[49m\u001B[43mallow_unreachable\u001B[49m\u001B[38;5;241;43m=\u001B[39;49m\u001B[38;5;28;43;01mTrue\u001B[39;49;00m\u001B[43m,\u001B[49m\n\u001B[1;32m    273\u001B[0m \u001B[43m    \u001B[49m\u001B[43maccumulate_grad\u001B[49m\u001B[38;5;241;43m=\u001B[39;49m\u001B[38;5;28;43;01mTrue\u001B[39;49;00m\u001B[43m,\u001B[49m\n\u001B[1;32m    274\u001B[0m \u001B[43m\u001B[49m\u001B[43m)\u001B[49m\n",
      "\u001B[0;31mKeyboardInterrupt\u001B[0m: "
     ]
    },
    {
     "data": {
      "text/plain": [
       "<Figure size 640x480 with 1 Axes>"
      ],
      "image/png": "[encoded data removed]"
     },
     "metadata": {},
     "output_type": "display_data"
    }
   ],
   "execution_count": 12
  },
  {
   "metadata": {},
   "cell_type": "code",
   "source": [
    "logger.info(np.array(ssim_results[MODEL_256][10000]).mean())\n",
    "logger.info(np.array(ssim_results[MODEL_512][10000]).mean())\n",
    "logger.info(np.array(ssim_results[MODEL_1024][10000]).mean())\n",
    "logger.info(np.array(ssim_results[MODEL_2048][10000]).mean())"
   ],
   "id": "5b1169acdd8ade2a",
   "outputs": [],
   "execution_count": null
  }
 ],
 "metadata": {
  "kernelspec": {
   "display_name": "Python 3",
   "language": "python",
   "name": "python3"
  },
  "language_info": {
   "codemirror_mode": {
    "name": "ipython",
    "version": 2
   },
   "file_extension": ".py",
   "mimetype": "text/x-python",
   "name": "python",
   "nbconvert_exporter": "python",
   "pygments_lexer": "ipython2",
   "version": "2.7.6"
  }
 },
 "nbformat": 4,
 "nbformat_minor": 5
}
