{
 "cells": [
  {
   "cell_type": "code",
   "id": "initial_id",
   "metadata": {
    "collapsed": true,
    "ExecuteTime": {
     "end_time": "2024-11-19T12:27:49.043037Z",
     "start_time": "2024-11-19T12:27:49.040727Z"
    }
   },
   "source": [
    "import sys\n",
    "\n",
    "import matplotlib.pyplot as plt\n",
    "import torch\n",
    "from matplotlib.animation import FuncAnimation\n",
    "from tqdm import tqdm\n",
    "\n",
    "from src.common.paths import PlotPaths\n",
    "from src.models.vae.vae import VariationalAutoEncoder\n",
    "from src.plotting.city_emission_field_plot import plot_emission_field_tensor, scale_emission_field_tensor_for_plotting"
   ],
   "outputs": [],
   "execution_count": 25
  },
  {
   "metadata": {
    "ExecuteTime": {
     "end_time": "2024-11-19T12:22:58.710544Z",
     "start_time": "2024-11-19T12:22:58.458520Z"
    }
   },
   "cell_type": "code",
   "source": [
    "MODEL_NAME = \"2048\"\n",
    "\n",
    "vae = VariationalAutoEncoder.load(model_name=MODEL_NAME)\n",
    "\n",
    "animations_path = PlotPaths.PLOTS / \"animations\"\n",
    "animations_path.mkdir(exist_ok=True)\n",
    "\n",
    "animation_path = animations_path / f\"{MODEL_NAME}.gif\""
   ],
   "id": "71a100187b9c4b33",
   "outputs": [],
   "execution_count": 21
  },
  {
   "metadata": {
    "ExecuteTime": {
     "end_time": "2024-11-19T12:22:58.727196Z",
     "start_time": "2024-11-19T12:22:58.711511Z"
    }
   },
   "cell_type": "code",
   "source": [
    "num_steps = 100\n",
    "\n",
    "start_point = torch.randn(vae.latent_dimension)\n",
    "end_point = torch.randn(vae.latent_dimension)\n",
    "\n",
    "# Generate random control points for the Bézier curve\n",
    "control_points = [torch.randn(vae.latent_dimension) for _ in range(2)]  # Adjust the number as needed\n",
    "\n",
    "# Bézier curve interpolation\n",
    "def bezier(t, points):\n",
    "    \"\"\"Compute a point on a Bézier curve given parameter t and control points.\"\"\"\n",
    "    n = len(points) - 1\n",
    "    return sum(\n",
    "        comb(n, i) * (1 - t)**(n - i) * t**i * points[i] for i in range(n + 1)\n",
    "    )\n",
    "\n",
    "from scipy.special import comb\n",
    "t_values = torch.linspace(0, 1, num_steps)\n",
    "points = [start_point] + control_points + [end_point]\n",
    "latent_walk = torch.stack([bezier(t, points) for t in t_values])"
   ],
   "id": "37ce146feb63151b",
   "outputs": [],
   "execution_count": 22
  },
  {
   "metadata": {
    "ExecuteTime": {
     "end_time": "2024-11-19T12:22:58.926339Z",
     "start_time": "2024-11-19T12:22:58.727785Z"
    }
   },
   "cell_type": "code",
   "source": [
    "frames = [vae.generate(latent_vector.unsqueeze(0)).sum(0) for latent_vector in latent_walk]\n",
    "vmax = max([frame.max().item() for frame in frames])"
   ],
   "id": "92405d40a2e441ae",
   "outputs": [],
   "execution_count": 23
  },
  {
   "metadata": {
    "ExecuteTime": {
     "end_time": "2024-11-19T12:23:02.778611Z",
     "start_time": "2024-11-19T12:22:58.927316Z"
    }
   },
   "cell_type": "code",
   "source": [
    "fig, ax = plt.subplots(figsize=(5, 5))\n",
    "img_display = plot_emission_field_tensor(torch.zeros(32, 32), ax=ax, vmax=vmax)\n",
    "\n",
    "bar = tqdm(total=num_steps, file=sys.stdout)\n",
    "\n",
    "def update(frame):\n",
    "    bar.update()\n",
    "    frame = scale_emission_field_tensor_for_plotting(frames[frame])\n",
    "    img_display.set_data(frame)\n",
    "    return [img_display]\n",
    "\n",
    "\n",
    "ani = FuncAnimation(fig, update, frames=num_steps, blit=False)\n",
    "\n",
    "ani.save(animation_path, writer=\"pillow\", fps=30)"
   ],
   "id": "b90a65d0b7c1acc0",
   "outputs": [
    {
     "name": "stdout",
     "output_type": "stream",
     "text": [
      "\n",
      "102it [01:14,  1.37it/s]00:00<?, ?it/s]\u001B[A\n",
      "\n",
      "  5%|▌         | 5/100 [00:00<00:02, 44.65it/s]\u001B[A\n",
      " 10%|█         | 10/100 [00:00<00:02, 36.99it/s]\u001B[A\n",
      " 14%|█▍        | 14/100 [00:00<00:02, 35.20it/s]\u001B[A\n",
      " 18%|█▊        | 18/100 [00:00<00:02, 34.50it/s]\u001B[A\n",
      " 22%|██▏       | 22/100 [00:00<00:02, 34.04it/s]\u001B[A\n",
      " 26%|██▌       | 26/100 [00:00<00:02, 32.73it/s]\u001B[A\n",
      " 30%|███       | 30/100 [00:00<00:02, 32.29it/s]\u001B[A\n",
      " 34%|███▍      | 34/100 [00:01<00:02, 31.88it/s]\u001B[A\n",
      " 38%|███▊      | 38/100 [00:01<00:01, 31.61it/s]\u001B[A\n",
      " 42%|████▏     | 42/100 [00:01<00:01, 31.86it/s]\u001B[A\n",
      " 46%|████▌     | 46/100 [00:01<00:01, 31.79it/s]\u001B[A\n",
      " 50%|█████     | 50/100 [00:01<00:01, 32.11it/s]\u001B[A\n",
      " 54%|█████▍    | 54/100 [00:01<00:01, 32.07it/s]\u001B[A\n",
      " 58%|█████▊    | 58/100 [00:01<00:01, 32.34it/s]\u001B[A\n",
      " 62%|██████▏   | 62/100 [00:01<00:01, 32.52it/s]\u001B[A\n",
      " 66%|██████▌   | 66/100 [00:02<00:01, 32.67it/s]\u001B[A\n",
      " 70%|███████   | 70/100 [00:02<00:00, 32.55it/s]\u001B[A\n",
      " 74%|███████▍  | 74/100 [00:02<00:00, 32.63it/s]\u001B[A\n",
      " 78%|███████▊  | 78/100 [00:02<00:00, 32.38it/s]\u001B[A\n",
      " 82%|████████▏ | 82/100 [00:02<00:00, 32.38it/s]\u001B[A\n",
      " 86%|████████▌ | 86/100 [00:02<00:00, 32.33it/s]\u001B[A\n",
      " 90%|█████████ | 90/100 [00:02<00:00, 32.27it/s]\u001B[A\n",
      " 94%|█████████▍| 94/100 [00:02<00:00, 32.16it/s]\u001B[A\n",
      " 98%|█████████▊| 98/100 [00:02<00:00, 32.19it/s]\u001B[A\n",
      "102it [00:03, 12.50it/s]                        \u001B[A"
     ]
    },
    {
     "data": {
      "text/plain": [
       "<Figure size 500x500 with 2 Axes>"
      ],
      "image/png": "[encoded data removed]"
     },
     "metadata": {},
     "output_type": "display_data"
    }
   ],
   "execution_count": 24
  }
 ],
 "metadata": {
  "kernelspec": {
   "display_name": "Python 3",
   "language": "python",
   "name": "python3"
  },
  "language_info": {
   "codemirror_mode": {
    "name": "ipython",
    "version": 2
   },
   "file_extension": ".py",
   "mimetype": "text/x-python",
   "name": "python",
   "nbconvert_exporter": "python",
   "pygments_lexer": "ipython2",
   "version": "2.7.6"
  }
 },
 "nbformat": 4,
 "nbformat_minor": 5
}
