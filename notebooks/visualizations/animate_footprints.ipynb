{
 "cells": [
  {
   "metadata": {
    "ExecuteTime": {
     "end_time": "2024-11-19T12:51:32.041996Z",
     "start_time": "2024-11-19T12:51:31.056975Z"
    }
   },
   "cell_type": "code",
   "source": [
    "from pathlib import Path\n",
    "\n",
    "import numpy as np\n",
    "from matplotlib import pyplot as plt\n",
    "from matplotlib.animation import FuncAnimation\n",
    "from torch import Tensor\n",
    "\n",
    "from src.common.paths import PlotPaths\n",
    "from src.inverse_problems.footprints.footprint_loader import load_gaussian_plume_footprint\n",
    "from src.inverse_problems.footprints.gaussian_plume_model import GaussianPlumeModel"
   ],
   "id": "21af9a811bf6f143",
   "outputs": [],
   "execution_count": 1
  },
  {
   "metadata": {
    "ExecuteTime": {
     "end_time": "2024-11-19T12:51:32.044626Z",
     "start_time": "2024-11-19T12:51:32.042784Z"
    }
   },
   "cell_type": "code",
   "source": [
    "animation_paths = PlotPaths.ANIMATIONS / \"footprints\"\n",
    "animation_paths.mkdir(exist_ok=True)"
   ],
   "id": "96ecd127ea3efc5b",
   "outputs": [],
   "execution_count": 2
  },
  {
   "metadata": {
    "ExecuteTime": {
     "end_time": "2024-11-19T12:51:32.048114Z",
     "start_time": "2024-11-19T12:51:32.045253Z"
    }
   },
   "cell_type": "code",
   "source": [
    "def animate(sensing_matrix_: Tensor, path: Path) -> None:    \n",
    "    fig, ax = plt.subplots()\n",
    "\n",
    "    image = ax.imshow(sensing_matrix_[0].reshape(32, 32), vmin=0, vmax=vmax)\n",
    "    \n",
    "    plt.colorbar(image, ax=ax, label=r\"$\\text{ppm} \\cdot \\text{m}^2 \\cdot \\text{s} \\cdot \\mu\\text{mol}^{-1}$\")\n",
    "    plt.tight_layout()\n",
    "    \n",
    "    def update(frame):\n",
    "        image.set_array(sensing_matrix_[frame].reshape(32, 32))\n",
    "        return [image]\n",
    "    \n",
    "    ani = FuncAnimation(fig, update, frames=len(sensing_matrix_), blit=True, interval=100)\n",
    "    \n",
    "    plt.close()\n",
    "    \n",
    "    ani.save(path, writer=\"pillow\", fps=30)"
   ],
   "id": "259f5e85d5462884",
   "outputs": [],
   "execution_count": 3
  },
  {
   "metadata": {},
   "cell_type": "markdown",
   "source": "# My Implementation",
   "id": "3cb3af63398710a3"
  },
  {
   "cell_type": "code",
   "id": "initial_id",
   "metadata": {
    "collapsed": true,
    "ExecuteTime": {
     "end_time": "2024-11-19T12:51:32.051015Z",
     "start_time": "2024-11-19T12:51:32.048737Z"
    }
   },
   "source": [
    "sensor_locations = [\n",
    "    (4, 5),\n",
    "    (25, 6),\n",
    "    (5, 26),\n",
    "    (26, 25),\n",
    "    (14, 15),\n",
    "    (6, 15),\n",
    "    (14, 5),\n",
    "    (24, 15),\n",
    "    (15, 27),\n",
    "    (10, 9),\n",
    "    (11, 20),\n",
    "    (21, 10),\n",
    "    (19, 21),\n",
    "]\n",
    "\n",
    "measurements_per_sensor = 50"
   ],
   "outputs": [],
   "execution_count": 4
  },
  {
   "metadata": {
    "ExecuteTime": {
     "end_time": "2024-11-19T12:51:38.318894Z",
     "start_time": "2024-11-19T12:51:32.052330Z"
    }
   },
   "cell_type": "code",
   "source": [
    "model = GaussianPlumeModel()\n",
    "\n",
    "footprints = []\n",
    "\n",
    "for sensor_x, sensor_y in sensor_locations:\n",
    "    footprints += model.get_sensitivities_for_sensor(sensor_x, sensor_y, num_measurements=measurements_per_sensor)"
   ],
   "id": "14465916f97a46e1",
   "outputs": [],
   "execution_count": 5
  },
  {
   "metadata": {
    "ExecuteTime": {
     "end_time": "2024-11-19T12:51:38.327480Z",
     "start_time": "2024-11-19T12:51:38.319550Z"
    }
   },
   "cell_type": "code",
   "source": [
    "sensing_matrix = np.zeros((len(footprints), 32 * 32))\n",
    "for i, footprint in enumerate(footprints):\n",
    "    sensing_matrix[i, :] = footprint.reshape(32 * 32)\n",
    "\n",
    "vmax = sensing_matrix.max()"
   ],
   "id": "b9437855c1d65e6b",
   "outputs": [],
   "execution_count": 6
  },
  {
   "metadata": {
    "ExecuteTime": {
     "end_time": "2024-11-19T12:52:14.573953Z",
     "start_time": "2024-11-19T12:51:38.328380Z"
    }
   },
   "cell_type": "code",
   "source": "animate(sensing_matrix_=sensing_matrix, path=animation_paths / \"my_footprints.gif\")",
   "id": "44cc4a1f88516fc1",
   "outputs": [],
   "execution_count": 7
  },
  {
   "metadata": {},
   "cell_type": "markdown",
   "source": "# Footprints by Zanger et al.",
   "id": "7bf6c2ebe225259a"
  },
  {
   "metadata": {
    "ExecuteTime": {
     "end_time": "2024-11-19T12:52:15.244697Z",
     "start_time": "2024-11-19T12:52:14.574562Z"
    }
   },
   "cell_type": "code",
   "source": [
    "num_measurement_stations = 50\n",
    "\n",
    "sensing_matrix_zanger = Tensor(load_gaussian_plume_footprint(num_measurement_stations))\n",
    "\n",
    "vmax = sensing_matrix_zanger.max()"
   ],
   "id": "3d935a081d273ce3",
   "outputs": [],
   "execution_count": 8
  },
  {
   "metadata": {
    "ExecuteTime": {
     "end_time": "2024-11-19T12:54:32.808084Z",
     "start_time": "2024-11-19T12:52:15.245351Z"
    }
   },
   "cell_type": "code",
   "source": "animate(sensing_matrix_=sensing_matrix_zanger, path=animation_paths / \"zanger_footprints.gif\")",
   "id": "d0072b2b7d330383",
   "outputs": [],
   "execution_count": 9
  }
 ],
 "metadata": {
  "kernelspec": {
   "display_name": "Python 3",
   "language": "python",
   "name": "python3"
  },
  "language_info": {
   "codemirror_mode": {
    "name": "ipython",
    "version": 2
   },
   "file_extension": ".py",
   "mimetype": "text/x-python",
   "name": "python",
   "nbconvert_exporter": "python",
   "pygments_lexer": "ipython2",
   "version": "2.7.6"
  }
 },
 "nbformat": 4,
 "nbformat_minor": 5
}
